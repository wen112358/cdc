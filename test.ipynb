{
 "cells": [
  {
   "cell_type": "code",
   "execution_count": 3,
   "metadata": {},
   "outputs": [
    {
     "name": "stdout",
     "output_type": "stream",
     "text": [
      "sample\n"
     ]
    }
   ],
   "source": [
    "from castle.common import GraphDAG\n",
    "from castle.metrics import MetricsDAG\n",
    "from castle.datasets import DAG, Topology, THPSimulation\n",
    "from castle.algorithms import TTPM\n",
    "\n",
    "import numpy as np\n",
    "import pandas as pd\n",
    "import argparse\n",
    "\n",
    "# parser = argparse.ArgumentParser(description='argparse testing')\n",
    "# parser.add_argument('--dataset', '-d', type=str, default=\"sample\", required=True, help=\"Dataset folder name\")\n",
    "# args = parser.parse_args()\n",
    "\n",
    "# dataset = args.dataset\n",
    "dataset = \"sample\"\n",
    "\n",
    "print(dataset)\n",
    "\n",
    "tp = np.load(\"data/datasets/{}/topology.npy\".format(dataset))\n",
    "ttpm = TTPM(topology_matrix=tp, max_hop=2)\n",
    "\n",
    "\n",
    "X = pd.read_csv('data/datasets/{}/alarm.csv'.format(dataset))\n",
    "X.drop(\"end_timestamp\",axis=1,inplace=True)\n",
    "X.rename({\"alarm_id\":\"event\",\"device_id\":\"node\",\"start_timestamp\":\"timestamp\"},axis=1,inplace=True)\n",
    "\n"
   ]
  },
  {
   "cell_type": "code",
   "execution_count": 5,
   "metadata": {},
   "outputs": [
    {
     "ename": "AttributeError",
     "evalue": "'NoneType' object has no attribute 'to_numpy'",
     "output_type": "error",
     "traceback": [
      "\u001b[1;31m---------------------------------------------------------------------------\u001b[0m",
      "\u001b[1;31mAttributeError\u001b[0m                            Traceback (most recent call last)",
      "Cell \u001b[1;32mIn[5], line 1\u001b[0m\n\u001b[1;32m----> 1\u001b[0m np\u001b[39m.\u001b[39msave(\u001b[39m\"\u001b[39m\u001b[39m./submission/ttpm/\u001b[39m\u001b[39m{}\u001b[39;00m\u001b[39m_graph_matrix.npy\u001b[39m\u001b[39m\"\u001b[39m\u001b[39m.\u001b[39mformat(dataset), ttpm\u001b[39m.\u001b[39;49mcausal_matrix\u001b[39m.\u001b[39;49mto_numpy())\n",
      "\u001b[1;31mAttributeError\u001b[0m: 'NoneType' object has no attribute 'to_numpy'"
     ]
    }
   ],
   "source": [
    "np.save(\"./submission/ttpm/{}_graph_matrix.npy\".format(dataset), ttpm.causal_matrix.to_numpy())\n"
   ]
  },
  {
   "cell_type": "code",
   "execution_count": 4,
   "metadata": {},
   "outputs": [
    {
     "ename": "KeyboardInterrupt",
     "evalue": "",
     "output_type": "error",
     "traceback": [
      "\u001b[1;31m---------------------------------------------------------------------------\u001b[0m",
      "\u001b[1;31mAttributeError\u001b[0m                            Traceback (most recent call last)",
      "File \u001b[1;32md:\\Application\\Anaconda\\envs\\neurips\\lib\\site-packages\\networkx\\classes\\coreviews.py:274\u001b[0m, in \u001b[0;36mFilterAtlas.__iter__\u001b[1;34m(self)\u001b[0m\n\u001b[0;32m    273\u001b[0m \u001b[39mtry\u001b[39;00m:  \u001b[39m# check that NODE_OK has attr 'nodes'\u001b[39;00m\n\u001b[1;32m--> 274\u001b[0m     node_ok_shorter \u001b[39m=\u001b[39m \u001b[39m2\u001b[39m \u001b[39m*\u001b[39m \u001b[39mlen\u001b[39m(\u001b[39mself\u001b[39;49m\u001b[39m.\u001b[39;49mNODE_OK\u001b[39m.\u001b[39;49mnodes) \u001b[39m<\u001b[39m \u001b[39mlen\u001b[39m(\u001b[39mself\u001b[39m\u001b[39m.\u001b[39m_atlas)\n\u001b[0;32m    275\u001b[0m \u001b[39mexcept\u001b[39;00m \u001b[39mAttributeError\u001b[39;00m:\n",
      "\u001b[1;31mAttributeError\u001b[0m: 'function' object has no attribute 'nodes'",
      "\nDuring handling of the above exception, another exception occurred:\n",
      "\u001b[1;31mKeyboardInterrupt\u001b[0m                         Traceback (most recent call last)",
      "Cell \u001b[1;32mIn[4], line 1\u001b[0m\n\u001b[1;32m----> 1\u001b[0m ttpm\u001b[39m.\u001b[39;49mlearn(X)\n",
      "File \u001b[1;32md:\\Application\\Anaconda\\envs\\neurips\\lib\\site-packages\\castle\\algorithms\\ttpm\\ttpm.py:120\u001b[0m, in \u001b[0;36mTTPM.learn\u001b[1;34m(self, tensor, *args, **kwargs)\u001b[0m\n\u001b[0;32m    115\u001b[0m         \u001b[39mraise\u001b[39;00m \u001b[39mValueError\u001b[39;00m(\n\u001b[0;32m    116\u001b[0m             \u001b[39m\"\u001b[39m\u001b[39mThe data tensor should contain column with name \u001b[39m\u001b[39m{}\u001b[39;00m\u001b[39m\"\u001b[39m\u001b[39m.\u001b[39mformat(\n\u001b[0;32m    117\u001b[0m                 col))\n\u001b[0;32m    119\u001b[0m \u001b[39m# initialize needed values\u001b[39;00m\n\u001b[1;32m--> 120\u001b[0m \u001b[39mself\u001b[39;49m\u001b[39m.\u001b[39;49m_start_init(tensor)\n\u001b[0;32m    122\u001b[0m \u001b[39m# Generate causal matrix (DAG)\u001b[39;00m\n\u001b[0;32m    123\u001b[0m _, raw_causal_matrix \u001b[39m=\u001b[39m \u001b[39mself\u001b[39m\u001b[39m.\u001b[39m_hill_climb()\n",
      "File \u001b[1;32md:\\Application\\Anaconda\\envs\\neurips\\lib\\site-packages\\castle\\algorithms\\ttpm\\ttpm.py:164\u001b[0m, in \u001b[0;36mTTPM._start_init\u001b[1;34m(self, tensor)\u001b[0m\n\u001b[0;32m    161\u001b[0m \u001b[39mself\u001b[39m\u001b[39m.\u001b[39m_min_s_t \u001b[39m=\u001b[39m tensor[\u001b[39m'\u001b[39m\u001b[39mtimestamp\u001b[39m\u001b[39m'\u001b[39m]\u001b[39m.\u001b[39mmin()\n\u001b[0;32m    163\u001b[0m \u001b[39mfor\u001b[39;00m k \u001b[39min\u001b[39;00m \u001b[39mrange\u001b[39m(\u001b[39mself\u001b[39m\u001b[39m.\u001b[39m_max_hop\u001b[39m+\u001b[39m\u001b[39m1\u001b[39m):\n\u001b[1;32m--> 164\u001b[0m     \u001b[39mself\u001b[39m\u001b[39m.\u001b[39m_decay_effects[:, k] \u001b[39m=\u001b[39m tensor\u001b[39m.\u001b[39;49mgroupby(\u001b[39m'\u001b[39;49m\u001b[39mevent\u001b[39;49m\u001b[39m'\u001b[39;49m)\u001b[39m.\u001b[39;49mapply(\n\u001b[0;32m    165\u001b[0m         \u001b[39mlambda\u001b[39;49;00m i: ((((\u001b[39m1\u001b[39;49m \u001b[39m-\u001b[39;49m np\u001b[39m.\u001b[39;49mexp(\n\u001b[0;32m    166\u001b[0m             \u001b[39m-\u001b[39;49m\u001b[39mself\u001b[39;49m\u001b[39m.\u001b[39;49m_delta \u001b[39m*\u001b[39;49m (\u001b[39mself\u001b[39;49m\u001b[39m.\u001b[39;49m_max_s_t \u001b[39m-\u001b[39;49m i[\u001b[39m'\u001b[39;49m\u001b[39mtimestamp\u001b[39;49m\u001b[39m'\u001b[39;49m]))) \u001b[39m/\u001b[39;49m \u001b[39mself\u001b[39;49m\u001b[39m.\u001b[39;49m_delta)\n\u001b[0;32m    167\u001b[0m                     \u001b[39m*\u001b[39;49m i[\u001b[39m'\u001b[39;49m\u001b[39mtimes\u001b[39;49m\u001b[39m'\u001b[39;49m]) \u001b[39m*\u001b[39;49m i[\u001b[39m'\u001b[39;49m\u001b[39mnode\u001b[39;49m\u001b[39m'\u001b[39;49m]\u001b[39m.\u001b[39;49mapply(\n\u001b[0;32m    168\u001b[0m             \u001b[39mlambda\u001b[39;49;00m j: \u001b[39mlen\u001b[39;49m(\u001b[39mself\u001b[39;49m\u001b[39m.\u001b[39;49m_k_hop_neibors(j, k))))\u001b[39m.\u001b[39;49msum())\n\u001b[0;32m    169\u001b[0m \u001b[39m# |V|x|T|\u001b[39;00m\n\u001b[0;32m    170\u001b[0m \u001b[39mself\u001b[39m\u001b[39m.\u001b[39m_T \u001b[39m=\u001b[39m (\u001b[39mself\u001b[39m\u001b[39m.\u001b[39m_max_s_t \u001b[39m-\u001b[39m \u001b[39mself\u001b[39m\u001b[39m.\u001b[39m_min_s_t) \u001b[39m*\u001b[39m \u001b[39mlen\u001b[39m(tensor[\u001b[39m'\u001b[39m\u001b[39mnode\u001b[39m\u001b[39m'\u001b[39m]\u001b[39m.\u001b[39munique())\n",
      "File \u001b[1;32md:\\Application\\Anaconda\\envs\\neurips\\lib\\site-packages\\pandas\\core\\groupby\\groupby.py:1353\u001b[0m, in \u001b[0;36mGroupBy.apply\u001b[1;34m(self, func, *args, **kwargs)\u001b[0m\n\u001b[0;32m   1351\u001b[0m \u001b[39mwith\u001b[39;00m option_context(\u001b[39m\"\u001b[39m\u001b[39mmode.chained_assignment\u001b[39m\u001b[39m\"\u001b[39m, \u001b[39mNone\u001b[39;00m):\n\u001b[0;32m   1352\u001b[0m     \u001b[39mtry\u001b[39;00m:\n\u001b[1;32m-> 1353\u001b[0m         result \u001b[39m=\u001b[39m \u001b[39mself\u001b[39;49m\u001b[39m.\u001b[39;49m_python_apply_general(f, \u001b[39mself\u001b[39;49m\u001b[39m.\u001b[39;49m_selected_obj)\n\u001b[0;32m   1354\u001b[0m     \u001b[39mexcept\u001b[39;00m \u001b[39mTypeError\u001b[39;00m:\n\u001b[0;32m   1355\u001b[0m         \u001b[39m# gh-20949\u001b[39;00m\n\u001b[0;32m   1356\u001b[0m         \u001b[39m# try again, with .apply acting as a filtering\u001b[39;00m\n\u001b[1;32m   (...)\u001b[0m\n\u001b[0;32m   1360\u001b[0m         \u001b[39m# fails on *some* columns, e.g. a numeric operation\u001b[39;00m\n\u001b[0;32m   1361\u001b[0m         \u001b[39m# on a string grouper column\u001b[39;00m\n\u001b[0;32m   1363\u001b[0m         \u001b[39mreturn\u001b[39;00m \u001b[39mself\u001b[39m\u001b[39m.\u001b[39m_python_apply_general(f, \u001b[39mself\u001b[39m\u001b[39m.\u001b[39m_obj_with_exclusions)\n",
      "File \u001b[1;32md:\\Application\\Anaconda\\envs\\neurips\\lib\\site-packages\\pandas\\core\\groupby\\groupby.py:1402\u001b[0m, in \u001b[0;36mGroupBy._python_apply_general\u001b[1;34m(self, f, data, not_indexed_same, is_transform, is_agg)\u001b[0m\n\u001b[0;32m   1367\u001b[0m \u001b[39m@final\u001b[39m\n\u001b[0;32m   1368\u001b[0m \u001b[39mdef\u001b[39;00m \u001b[39m_python_apply_general\u001b[39m(\n\u001b[0;32m   1369\u001b[0m     \u001b[39mself\u001b[39m,\n\u001b[1;32m   (...)\u001b[0m\n\u001b[0;32m   1374\u001b[0m     is_agg: \u001b[39mbool\u001b[39m \u001b[39m=\u001b[39m \u001b[39mFalse\u001b[39;00m,\n\u001b[0;32m   1375\u001b[0m ) \u001b[39m-\u001b[39m\u001b[39m>\u001b[39m NDFrameT:\n\u001b[0;32m   1376\u001b[0m \u001b[39m    \u001b[39m\u001b[39m\"\"\"\u001b[39;00m\n\u001b[0;32m   1377\u001b[0m \u001b[39m    Apply function f in python space\u001b[39;00m\n\u001b[0;32m   1378\u001b[0m \n\u001b[1;32m   (...)\u001b[0m\n\u001b[0;32m   1400\u001b[0m \u001b[39m        data after applying f\u001b[39;00m\n\u001b[0;32m   1401\u001b[0m \u001b[39m    \"\"\"\u001b[39;00m\n\u001b[1;32m-> 1402\u001b[0m     values, mutated \u001b[39m=\u001b[39m \u001b[39mself\u001b[39;49m\u001b[39m.\u001b[39;49mgrouper\u001b[39m.\u001b[39;49mapply(f, data, \u001b[39mself\u001b[39;49m\u001b[39m.\u001b[39;49maxis)\n\u001b[0;32m   1403\u001b[0m     \u001b[39mif\u001b[39;00m not_indexed_same \u001b[39mis\u001b[39;00m \u001b[39mNone\u001b[39;00m:\n\u001b[0;32m   1404\u001b[0m         not_indexed_same \u001b[39m=\u001b[39m mutated\n",
      "File \u001b[1;32md:\\Application\\Anaconda\\envs\\neurips\\lib\\site-packages\\pandas\\core\\groupby\\ops.py:767\u001b[0m, in \u001b[0;36mBaseGrouper.apply\u001b[1;34m(self, f, data, axis)\u001b[0m\n\u001b[0;32m    765\u001b[0m \u001b[39m# group might be modified\u001b[39;00m\n\u001b[0;32m    766\u001b[0m group_axes \u001b[39m=\u001b[39m group\u001b[39m.\u001b[39maxes\n\u001b[1;32m--> 767\u001b[0m res \u001b[39m=\u001b[39m f(group)\n\u001b[0;32m    768\u001b[0m \u001b[39mif\u001b[39;00m \u001b[39mnot\u001b[39;00m mutated \u001b[39mand\u001b[39;00m \u001b[39mnot\u001b[39;00m _is_indexed_like(res, group_axes, axis):\n\u001b[0;32m    769\u001b[0m     mutated \u001b[39m=\u001b[39m \u001b[39mTrue\u001b[39;00m\n",
      "File \u001b[1;32md:\\Application\\Anaconda\\envs\\neurips\\lib\\site-packages\\castle\\algorithms\\ttpm\\ttpm.py:167\u001b[0m, in \u001b[0;36mTTPM._start_init.<locals>.<lambda>\u001b[1;34m(i)\u001b[0m\n\u001b[0;32m    161\u001b[0m \u001b[39mself\u001b[39m\u001b[39m.\u001b[39m_min_s_t \u001b[39m=\u001b[39m tensor[\u001b[39m'\u001b[39m\u001b[39mtimestamp\u001b[39m\u001b[39m'\u001b[39m]\u001b[39m.\u001b[39mmin()\n\u001b[0;32m    163\u001b[0m \u001b[39mfor\u001b[39;00m k \u001b[39min\u001b[39;00m \u001b[39mrange\u001b[39m(\u001b[39mself\u001b[39m\u001b[39m.\u001b[39m_max_hop\u001b[39m+\u001b[39m\u001b[39m1\u001b[39m):\n\u001b[0;32m    164\u001b[0m     \u001b[39mself\u001b[39m\u001b[39m.\u001b[39m_decay_effects[:, k] \u001b[39m=\u001b[39m tensor\u001b[39m.\u001b[39mgroupby(\u001b[39m'\u001b[39m\u001b[39mevent\u001b[39m\u001b[39m'\u001b[39m)\u001b[39m.\u001b[39mapply(\n\u001b[0;32m    165\u001b[0m         \u001b[39mlambda\u001b[39;00m i: ((((\u001b[39m1\u001b[39m \u001b[39m-\u001b[39m np\u001b[39m.\u001b[39mexp(\n\u001b[0;32m    166\u001b[0m             \u001b[39m-\u001b[39m\u001b[39mself\u001b[39m\u001b[39m.\u001b[39m_delta \u001b[39m*\u001b[39m (\u001b[39mself\u001b[39m\u001b[39m.\u001b[39m_max_s_t \u001b[39m-\u001b[39m i[\u001b[39m'\u001b[39m\u001b[39mtimestamp\u001b[39m\u001b[39m'\u001b[39m]))) \u001b[39m/\u001b[39m \u001b[39mself\u001b[39m\u001b[39m.\u001b[39m_delta)\n\u001b[1;32m--> 167\u001b[0m                     \u001b[39m*\u001b[39m i[\u001b[39m'\u001b[39m\u001b[39mtimes\u001b[39m\u001b[39m'\u001b[39m]) \u001b[39m*\u001b[39m i[\u001b[39m'\u001b[39;49m\u001b[39mnode\u001b[39;49m\u001b[39m'\u001b[39;49m]\u001b[39m.\u001b[39;49mapply(\n\u001b[0;32m    168\u001b[0m             \u001b[39mlambda\u001b[39;49;00m j: \u001b[39mlen\u001b[39;49m(\u001b[39mself\u001b[39;49m\u001b[39m.\u001b[39;49m_k_hop_neibors(j, k))))\u001b[39m.\u001b[39msum())\n\u001b[0;32m    169\u001b[0m \u001b[39m# |V|x|T|\u001b[39;00m\n\u001b[0;32m    170\u001b[0m \u001b[39mself\u001b[39m\u001b[39m.\u001b[39m_T \u001b[39m=\u001b[39m (\u001b[39mself\u001b[39m\u001b[39m.\u001b[39m_max_s_t \u001b[39m-\u001b[39m \u001b[39mself\u001b[39m\u001b[39m.\u001b[39m_min_s_t) \u001b[39m*\u001b[39m \u001b[39mlen\u001b[39m(tensor[\u001b[39m'\u001b[39m\u001b[39mnode\u001b[39m\u001b[39m'\u001b[39m]\u001b[39m.\u001b[39munique())\n",
      "File \u001b[1;32md:\\Application\\Anaconda\\envs\\neurips\\lib\\site-packages\\pandas\\core\\series.py:4630\u001b[0m, in \u001b[0;36mSeries.apply\u001b[1;34m(self, func, convert_dtype, args, **kwargs)\u001b[0m\n\u001b[0;32m   4520\u001b[0m \u001b[39mdef\u001b[39;00m \u001b[39mapply\u001b[39m(\n\u001b[0;32m   4521\u001b[0m     \u001b[39mself\u001b[39m,\n\u001b[0;32m   4522\u001b[0m     func: AggFuncType,\n\u001b[1;32m   (...)\u001b[0m\n\u001b[0;32m   4525\u001b[0m     \u001b[39m*\u001b[39m\u001b[39m*\u001b[39mkwargs,\n\u001b[0;32m   4526\u001b[0m ) \u001b[39m-\u001b[39m\u001b[39m>\u001b[39m DataFrame \u001b[39m|\u001b[39m Series:\n\u001b[0;32m   4527\u001b[0m \u001b[39m    \u001b[39m\u001b[39m\"\"\"\u001b[39;00m\n\u001b[0;32m   4528\u001b[0m \u001b[39m    Invoke function on values of Series.\u001b[39;00m\n\u001b[0;32m   4529\u001b[0m \n\u001b[1;32m   (...)\u001b[0m\n\u001b[0;32m   4628\u001b[0m \u001b[39m    dtype: float64\u001b[39;00m\n\u001b[0;32m   4629\u001b[0m \u001b[39m    \"\"\"\u001b[39;00m\n\u001b[1;32m-> 4630\u001b[0m     \u001b[39mreturn\u001b[39;00m SeriesApply(\u001b[39mself\u001b[39;49m, func, convert_dtype, args, kwargs)\u001b[39m.\u001b[39;49mapply()\n",
      "File \u001b[1;32md:\\Application\\Anaconda\\envs\\neurips\\lib\\site-packages\\pandas\\core\\apply.py:1025\u001b[0m, in \u001b[0;36mSeriesApply.apply\u001b[1;34m(self)\u001b[0m\n\u001b[0;32m   1022\u001b[0m     \u001b[39mreturn\u001b[39;00m \u001b[39mself\u001b[39m\u001b[39m.\u001b[39mapply_str()\n\u001b[0;32m   1024\u001b[0m \u001b[39m# self.f is Callable\u001b[39;00m\n\u001b[1;32m-> 1025\u001b[0m \u001b[39mreturn\u001b[39;00m \u001b[39mself\u001b[39;49m\u001b[39m.\u001b[39;49mapply_standard()\n",
      "File \u001b[1;32md:\\Application\\Anaconda\\envs\\neurips\\lib\\site-packages\\pandas\\core\\apply.py:1076\u001b[0m, in \u001b[0;36mSeriesApply.apply_standard\u001b[1;34m(self)\u001b[0m\n\u001b[0;32m   1074\u001b[0m     \u001b[39melse\u001b[39;00m:\n\u001b[0;32m   1075\u001b[0m         values \u001b[39m=\u001b[39m obj\u001b[39m.\u001b[39mastype(\u001b[39mobject\u001b[39m)\u001b[39m.\u001b[39m_values\n\u001b[1;32m-> 1076\u001b[0m         mapped \u001b[39m=\u001b[39m lib\u001b[39m.\u001b[39;49mmap_infer(\n\u001b[0;32m   1077\u001b[0m             values,\n\u001b[0;32m   1078\u001b[0m             f,\n\u001b[0;32m   1079\u001b[0m             convert\u001b[39m=\u001b[39;49m\u001b[39mself\u001b[39;49m\u001b[39m.\u001b[39;49mconvert_dtype,\n\u001b[0;32m   1080\u001b[0m         )\n\u001b[0;32m   1082\u001b[0m \u001b[39mif\u001b[39;00m \u001b[39mlen\u001b[39m(mapped) \u001b[39mand\u001b[39;00m \u001b[39misinstance\u001b[39m(mapped[\u001b[39m0\u001b[39m], ABCSeries):\n\u001b[0;32m   1083\u001b[0m     \u001b[39m# GH#43986 Need to do list(mapped) in order to get treated as nested\u001b[39;00m\n\u001b[0;32m   1084\u001b[0m     \u001b[39m#  See also GH#25959 regarding EA support\u001b[39;00m\n\u001b[0;32m   1085\u001b[0m     \u001b[39mreturn\u001b[39;00m obj\u001b[39m.\u001b[39m_constructor_expanddim(\u001b[39mlist\u001b[39m(mapped), index\u001b[39m=\u001b[39mobj\u001b[39m.\u001b[39mindex)\n",
      "File \u001b[1;32md:\\Application\\Anaconda\\envs\\neurips\\lib\\site-packages\\pandas\\_libs\\lib.pyx:2834\u001b[0m, in \u001b[0;36mpandas._libs.lib.map_infer\u001b[1;34m()\u001b[0m\n",
      "File \u001b[1;32md:\\Application\\Anaconda\\envs\\neurips\\lib\\site-packages\\castle\\algorithms\\ttpm\\ttpm.py:168\u001b[0m, in \u001b[0;36mTTPM._start_init.<locals>.<lambda>.<locals>.<lambda>\u001b[1;34m(j)\u001b[0m\n\u001b[0;32m    161\u001b[0m \u001b[39mself\u001b[39m\u001b[39m.\u001b[39m_min_s_t \u001b[39m=\u001b[39m tensor[\u001b[39m'\u001b[39m\u001b[39mtimestamp\u001b[39m\u001b[39m'\u001b[39m]\u001b[39m.\u001b[39mmin()\n\u001b[0;32m    163\u001b[0m \u001b[39mfor\u001b[39;00m k \u001b[39min\u001b[39;00m \u001b[39mrange\u001b[39m(\u001b[39mself\u001b[39m\u001b[39m.\u001b[39m_max_hop\u001b[39m+\u001b[39m\u001b[39m1\u001b[39m):\n\u001b[0;32m    164\u001b[0m     \u001b[39mself\u001b[39m\u001b[39m.\u001b[39m_decay_effects[:, k] \u001b[39m=\u001b[39m tensor\u001b[39m.\u001b[39mgroupby(\u001b[39m'\u001b[39m\u001b[39mevent\u001b[39m\u001b[39m'\u001b[39m)\u001b[39m.\u001b[39mapply(\n\u001b[0;32m    165\u001b[0m         \u001b[39mlambda\u001b[39;00m i: ((((\u001b[39m1\u001b[39m \u001b[39m-\u001b[39m np\u001b[39m.\u001b[39mexp(\n\u001b[0;32m    166\u001b[0m             \u001b[39m-\u001b[39m\u001b[39mself\u001b[39m\u001b[39m.\u001b[39m_delta \u001b[39m*\u001b[39m (\u001b[39mself\u001b[39m\u001b[39m.\u001b[39m_max_s_t \u001b[39m-\u001b[39m i[\u001b[39m'\u001b[39m\u001b[39mtimestamp\u001b[39m\u001b[39m'\u001b[39m]))) \u001b[39m/\u001b[39m \u001b[39mself\u001b[39m\u001b[39m.\u001b[39m_delta)\n\u001b[0;32m    167\u001b[0m                     \u001b[39m*\u001b[39m i[\u001b[39m'\u001b[39m\u001b[39mtimes\u001b[39m\u001b[39m'\u001b[39m]) \u001b[39m*\u001b[39m i[\u001b[39m'\u001b[39m\u001b[39mnode\u001b[39m\u001b[39m'\u001b[39m]\u001b[39m.\u001b[39mapply(\n\u001b[1;32m--> 168\u001b[0m             \u001b[39mlambda\u001b[39;00m j: \u001b[39mlen\u001b[39m(\u001b[39mself\u001b[39;49m\u001b[39m.\u001b[39;49m_k_hop_neibors(j, k))))\u001b[39m.\u001b[39msum())\n\u001b[0;32m    169\u001b[0m \u001b[39m# |V|x|T|\u001b[39;00m\n\u001b[0;32m    170\u001b[0m \u001b[39mself\u001b[39m\u001b[39m.\u001b[39m_T \u001b[39m=\u001b[39m (\u001b[39mself\u001b[39m\u001b[39m.\u001b[39m_max_s_t \u001b[39m-\u001b[39m \u001b[39mself\u001b[39m\u001b[39m.\u001b[39m_min_s_t) \u001b[39m*\u001b[39m \u001b[39mlen\u001b[39m(tensor[\u001b[39m'\u001b[39m\u001b[39mnode\u001b[39m\u001b[39m'\u001b[39m]\u001b[39m.\u001b[39munique())\n",
      "File \u001b[1;32md:\\Application\\Anaconda\\envs\\neurips\\lib\\site-packages\\castle\\algorithms\\ttpm\\ttpm.py:177\u001b[0m, in \u001b[0;36mTTPM._k_hop_neibors\u001b[1;34m(self, node, k)\u001b[0m\n\u001b[0;32m    175\u001b[0m     \u001b[39mreturn\u001b[39;00m {node}\n\u001b[0;32m    176\u001b[0m \u001b[39melse\u001b[39;00m:\n\u001b[1;32m--> 177\u001b[0m     \u001b[39mreturn\u001b[39;00m \u001b[39mset\u001b[39m(nx\u001b[39m.\u001b[39;49msingle_source_dijkstra_path_length(\n\u001b[0;32m    178\u001b[0m         \u001b[39mself\u001b[39;49m\u001b[39m.\u001b[39;49m_g, node, k)\u001b[39m.\u001b[39mkeys()) \u001b[39m-\u001b[39m \u001b[39mset\u001b[39m(\n\u001b[0;32m    179\u001b[0m         nx\u001b[39m.\u001b[39msingle_source_dijkstra_path_length(\n\u001b[0;32m    180\u001b[0m             \u001b[39mself\u001b[39m\u001b[39m.\u001b[39m_g, node, k \u001b[39m-\u001b[39m \u001b[39m1\u001b[39m)\u001b[39m.\u001b[39mkeys())\n",
      "File \u001b[1;32md:\\Application\\Anaconda\\envs\\neurips\\lib\\site-packages\\networkx\\algorithms\\shortest_paths\\weighted.py:367\u001b[0m, in \u001b[0;36msingle_source_dijkstra_path_length\u001b[1;34m(G, source, cutoff, weight)\u001b[0m\n\u001b[0;32m    300\u001b[0m \u001b[39mdef\u001b[39;00m \u001b[39msingle_source_dijkstra_path_length\u001b[39m(G, source, cutoff\u001b[39m=\u001b[39m\u001b[39mNone\u001b[39;00m, weight\u001b[39m=\u001b[39m\u001b[39m\"\u001b[39m\u001b[39mweight\u001b[39m\u001b[39m\"\u001b[39m):\n\u001b[0;32m    301\u001b[0m \u001b[39m    \u001b[39m\u001b[39m\"\"\"Find shortest weighted path lengths in G from a source node.\u001b[39;00m\n\u001b[0;32m    302\u001b[0m \n\u001b[0;32m    303\u001b[0m \u001b[39m    Compute the shortest path length between source and all other\u001b[39;00m\n\u001b[1;32m   (...)\u001b[0m\n\u001b[0;32m    365\u001b[0m \n\u001b[0;32m    366\u001b[0m \u001b[39m    \"\"\"\u001b[39;00m\n\u001b[1;32m--> 367\u001b[0m     \u001b[39mreturn\u001b[39;00m multi_source_dijkstra_path_length(G, {source}, cutoff\u001b[39m=\u001b[39;49mcutoff, weight\u001b[39m=\u001b[39;49mweight)\n",
      "File \u001b[1;32md:\\Application\\Anaconda\\envs\\neurips\\lib\\site-packages\\networkx\\algorithms\\shortest_paths\\weighted.py:615\u001b[0m, in \u001b[0;36mmulti_source_dijkstra_path_length\u001b[1;34m(G, sources, cutoff, weight)\u001b[0m\n\u001b[0;32m    613\u001b[0m     \u001b[39mraise\u001b[39;00m \u001b[39mValueError\u001b[39;00m(\u001b[39m\"\u001b[39m\u001b[39msources must not be empty\u001b[39m\u001b[39m\"\u001b[39m)\n\u001b[0;32m    614\u001b[0m weight \u001b[39m=\u001b[39m _weight_function(G, weight)\n\u001b[1;32m--> 615\u001b[0m \u001b[39mreturn\u001b[39;00m _dijkstra_multisource(G, sources, weight, cutoff\u001b[39m=\u001b[39;49mcutoff)\n",
      "File \u001b[1;32md:\\Application\\Anaconda\\envs\\neurips\\lib\\site-packages\\networkx\\algorithms\\shortest_paths\\weighted.py:820\u001b[0m, in \u001b[0;36m_dijkstra_multisource\u001b[1;34m(G, sources, weight, pred, paths, cutoff, target)\u001b[0m\n\u001b[0;32m    818\u001b[0m \u001b[39mif\u001b[39;00m v \u001b[39m==\u001b[39m target:\n\u001b[0;32m    819\u001b[0m     \u001b[39mbreak\u001b[39;00m\n\u001b[1;32m--> 820\u001b[0m \u001b[39mfor\u001b[39;00m u, e \u001b[39min\u001b[39;00m G_succ[v]\u001b[39m.\u001b[39mitems():\n\u001b[0;32m    821\u001b[0m     cost \u001b[39m=\u001b[39m weight(v, u, e)\n\u001b[0;32m    822\u001b[0m     \u001b[39mif\u001b[39;00m cost \u001b[39mis\u001b[39;00m \u001b[39mNone\u001b[39;00m:\n",
      "File \u001b[1;32md:\\Application\\Anaconda\\envs\\neurips\\lib\\_collections_abc.py:743\u001b[0m, in \u001b[0;36mItemsView.__iter__\u001b[1;34m(self)\u001b[0m\n\u001b[0;32m    742\u001b[0m \u001b[39mdef\u001b[39;00m \u001b[39m__iter__\u001b[39m(\u001b[39mself\u001b[39m):\n\u001b[1;32m--> 743\u001b[0m     \u001b[39mfor\u001b[39;00m key \u001b[39min\u001b[39;00m \u001b[39mself\u001b[39m\u001b[39m.\u001b[39m_mapping:\n\u001b[0;32m    744\u001b[0m         \u001b[39myield\u001b[39;00m (key, \u001b[39mself\u001b[39m\u001b[39m.\u001b[39m_mapping[key])\n",
      "File \u001b[1;32md:\\Application\\Anaconda\\envs\\neurips\\lib\\site-packages\\networkx\\classes\\coreviews.py:275\u001b[0m, in \u001b[0;36mFilterAtlas.__iter__\u001b[1;34m(self)\u001b[0m\n\u001b[0;32m    273\u001b[0m \u001b[39mtry\u001b[39;00m:  \u001b[39m# check that NODE_OK has attr 'nodes'\u001b[39;00m\n\u001b[0;32m    274\u001b[0m     node_ok_shorter \u001b[39m=\u001b[39m \u001b[39m2\u001b[39m \u001b[39m*\u001b[39m \u001b[39mlen\u001b[39m(\u001b[39mself\u001b[39m\u001b[39m.\u001b[39mNODE_OK\u001b[39m.\u001b[39mnodes) \u001b[39m<\u001b[39m \u001b[39mlen\u001b[39m(\u001b[39mself\u001b[39m\u001b[39m.\u001b[39m_atlas)\n\u001b[1;32m--> 275\u001b[0m \u001b[39mexcept\u001b[39;00m \u001b[39mAttributeError\u001b[39;49;00m:\n\u001b[0;32m    276\u001b[0m     node_ok_shorter \u001b[39m=\u001b[39m \u001b[39mFalse\u001b[39;00m\n\u001b[0;32m    277\u001b[0m \u001b[39mif\u001b[39;00m node_ok_shorter:\n",
      "\u001b[1;31mKeyboardInterrupt\u001b[0m: "
     ]
    }
   ],
   "source": [
    "ttpm.learn(X)"
   ]
  }
 ],
 "metadata": {
  "kernelspec": {
   "display_name": "neurips",
   "language": "python",
   "name": "python3"
  },
  "language_info": {
   "codemirror_mode": {
    "name": "ipython",
    "version": 3
   },
   "file_extension": ".py",
   "mimetype": "text/x-python",
   "name": "python",
   "nbconvert_exporter": "python",
   "pygments_lexer": "ipython3",
   "version": "3.8.17"
  },
  "orig_nbformat": 4
 },
 "nbformat": 4,
 "nbformat_minor": 2
}
