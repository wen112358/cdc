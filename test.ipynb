{
 "cells": [
  {
   "cell_type": "code",
   "execution_count": 7,
   "metadata": {},
   "outputs": [
    {
     "name": "stdout",
     "output_type": "stream",
     "text": [
      "sample\n",
      "[[1. 0. 0. ... 0. 0. 0.]\n",
      " [0. 1. 0. ... 0. 0. 0.]\n",
      " [0. 0. 1. ... 0. 0. 0.]\n",
      " ...\n",
      " [0. 0. 0. ... 1. 0. 0.]\n",
      " [0. 0. 0. ... 0. 1. 0.]\n",
      " [0. 0. 0. ... 0. 0. 1.]]\n"
     ]
    }
   ],
   "source": [
    "from castle.common import GraphDAG\n",
    "from castle.metrics import MetricsDAG\n",
    "from castle.datasets import DAG, Topology, THPSimulation\n",
    "from castle.algorithms import TTPM\n",
    "\n",
    "import numpy as np\n",
    "import pandas as pd\n",
    "import argparse\n",
    "import os\n",
    "\n",
    "# parser = argparse.ArgumentParser(description='argparse testing')\n",
    "# parser.add_argument('--dataset', '-d', type=str, default=\"sample\", required=True, help=\"Dataset folder name\")\n",
    "# args = parser.parse_args()\n",
    "\n",
    "# dataset = args.dataset\n",
    "dataset = \"sample\"\n",
    "iter = 0\n",
    "\n",
    "print(dataset)\n",
    "\n",
    "tp = np.load(\"data/datasets/{}/topology.npy\".format(dataset))\n",
    "ttpm = TTPM(topology_matrix=tp,max_iter=iter, max_hop=2)\n",
    "\n",
    "\n",
    "X = pd.read_csv('data/datasets/{}/alarm.csv'.format(dataset))\n",
    "X.drop(\"end_timestamp\",axis=1,inplace=True)\n",
    "X.rename({\"alarm_id\":\"event\",\"device_id\":\"node\",\"start_timestamp\":\"timestamp\"},axis=1,inplace=True)\n",
    "\n",
    "\n",
    "ttpm.learn(X)\n",
    "# print(ttpm.causal_matrix)\n",
    "\n",
    "# true_causal_matrix = np.load('data/datasets/{}/causal_prior.npy'.format(dataset))\n",
    "# GraphDAG(ttpm.causal_matrix, true_causal_matrix)\n",
    "# ret_metrix = MetricsDAG(ttpm.causal_matrix, true_causal_matrix)\n",
    "# print(ret_metrix.metrics)\n",
    "os.makedirs(\"./submission/ttpm_{}_iter\".format(str(iter)), exist_ok=True)\n",
    "print(ttpm.causal_matrix)\n",
    "\n",
    "\n"
   ]
  },
  {
   "cell_type": "code",
   "execution_count": 8,
   "metadata": {},
   "outputs": [],
   "source": [
    "np.save(\"./submission/ttpm_{}_iter/{}_graph_matrix.npy\".format(str(iter),dataset), ttpm.causal_matrix)"
   ]
  },
  {
   "cell_type": "code",
   "execution_count": null,
   "metadata": {},
   "outputs": [],
   "source": []
  }
 ],
 "metadata": {
  "kernelspec": {
   "display_name": "neurips",
   "language": "python",
   "name": "python3"
  },
  "language_info": {
   "codemirror_mode": {
    "name": "ipython",
    "version": 3
   },
   "file_extension": ".py",
   "mimetype": "text/x-python",
   "name": "python",
   "nbconvert_exporter": "python",
   "pygments_lexer": "ipython3",
   "version": "3.8.17"
  },
  "orig_nbformat": 4
 },
 "nbformat": 4,
 "nbformat_minor": 2
}
