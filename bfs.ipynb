{
 "cells": [
  {
   "cell_type": "code",
   "execution_count": 15,
   "metadata": {},
   "outputs": [],
   "source": [
    "dataset = \"dataset_1\"\n",
    "\n",
    "import numpy as np\n",
    "\n",
    "tp = np.load(\"data/datasets/{}/topology.npy\".format(dataset))\n",
    "\n",
    "device_num = len(tp)\n",
    "\n",
    "device_dict = dict()"
   ]
  },
  {
   "cell_type": "code",
   "execution_count": 16,
   "metadata": {},
   "outputs": [],
   "source": [
    "for index, row in enumerate(tp):\n",
    "    device_dict[index] = [i for i in range(device_num) if row[i] == 1]"
   ]
  },
  {
   "cell_type": "code",
   "execution_count": 17,
   "metadata": {},
   "outputs": [],
   "source": [
    "import numpy as np\n",
    "cp = np.load(\"data/datasets/{}/causal_prior.npy\".format(dataset))\n",
    "\n",
    "alarm_num = len(cp)\n",
    "\n",
    "alarm_dict = dict()"
   ]
  },
  {
   "cell_type": "code",
   "execution_count": 18,
   "metadata": {},
   "outputs": [],
   "source": [
    "for index, row in enumerate(cp):\n",
    "    alarm_dict[index] = [i for i in range(alarm_num) if row[i] != 0]"
   ]
  },
  {
   "cell_type": "code",
   "execution_count": 19,
   "metadata": {},
   "outputs": [],
   "source": [
    "import pandas as pd\n",
    "import numpy as np\n",
    "\n",
    "alarms = pd.read_csv('data/datasets/{}/alarm.csv'.format(dataset))\n",
    "cp = np.load('data/datasets/{}/causal_prior.npy'.format(dataset))\n",
    "\n",
    "alarms.sort_values(by=\"start_timestamp\" , inplace=True, ascending=True) "
   ]
  },
  {
   "cell_type": "code",
   "execution_count": 20,
   "metadata": {},
   "outputs": [],
   "source": [
    "data = alarms.to_dict(orient=\"records\")\n"
   ]
  },
  {
   "cell_type": "code",
   "execution_count": 21,
   "metadata": {},
   "outputs": [],
   "source": [
    "record_stack = list()\n",
    "\n",
    "\n",
    "while data:\n",
    "    record = data.pop(0)\n",
    "    start_timestamp = record[\"start_timestamp\"]\n",
    "    alarm_id = record[\"alarm_id\"]\n",
    "    device_id = record[\"device_id\"]\n",
    "    index = 0\n",
    "    while True:\n",
    "        if index == len(data):\n",
    "            break\n",
    "        if data[index][\"start_timestamp\"] - start_timestamp > 1:\n",
    "            break\n",
    "        if data[index][\"device_id\"] in device_dict[device_id] and data[index][\"alarm_id\"] in alarm_dict[alarm_id]:\n",
    "            if alarm_id != data[index][\"alarm_id\"] and cp[alarm_id][data[index][\"alarm_id\"]] == -1 and cp[data[index][\"alarm_id\"]][alarm_id] != 1:\n",
    "                cp[alarm_id][data[index][\"alarm_id\"]] = 1\n",
    "        index += 1\n",
    "\n",
    "cp[cp == -1] = 0\n",
    "np.save('./submission/bfs_1s/{}_graph_matrix.npy'.format(dataset),cp)\n",
    "        \n",
    "        "
   ]
  }
 ],
 "metadata": {
  "kernelspec": {
   "display_name": "Python 3",
   "language": "python",
   "name": "python3"
  },
  "language_info": {
   "codemirror_mode": {
    "name": "ipython",
    "version": 3
   },
   "file_extension": ".py",
   "mimetype": "text/x-python",
   "name": "python",
   "nbconvert_exporter": "python",
   "pygments_lexer": "ipython3",
   "version": "3.8.10"
  },
  "orig_nbformat": 4
 },
 "nbformat": 4,
 "nbformat_minor": 2
}
